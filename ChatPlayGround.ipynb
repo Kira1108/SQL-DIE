{
  "nbformat": 4,
  "nbformat_minor": 0,
  "metadata": {
    "colab": {
      "provenance": [],
      "authorship_tag": "ABX9TyOovRa2qDFZin4Ds9w39qWj",
      "include_colab_link": true
    },
    "kernelspec": {
      "name": "python3",
      "display_name": "Python 3"
    },
    "language_info": {
      "name": "python"
    }
  },
  "cells": [
    {
      "cell_type": "markdown",
      "metadata": {
        "id": "view-in-github",
        "colab_type": "text"
      },
      "source": [
        "<a href=\"https://colab.research.google.com/github/Kira1108/SQL-DIE/blob/main/ChatPlayGround.ipynb\" target=\"_parent\"><img src=\"https://colab.research.google.com/assets/colab-badge.svg\" alt=\"Open In Colab\"/></a>"
      ]
    },
    {
      "cell_type": "markdown",
      "source": [
        "Embedding采用的模型和chatGPT, GPT系列的模型都不同，所以不能和GPT系列有什么直接集成的可能可能。      \n",
        "Embedding作为一个单独的知识库搜索，以文本输入， 文本输出的形式。 让chatGPT给出输入文本，Embedding给出输出文本，chatGPT仅处理文本。"
      ],
      "metadata": {
        "id": "U7V80BixaOBL"
      }
    },
    {
      "cell_type": "code",
      "source": [
        "from IPython.display import clear_output\n",
        "!pip install langchain\n",
        "!pip install openai\n",
        "!git clone https://github.com/Kira1108/simple-chat.git\n",
        "!pip install simple-chat\n",
        "!pip install tiktoken\n",
        "clear_output()"
      ],
      "metadata": {
        "id": "coTTd1QqmSN6"
      },
      "execution_count": null,
      "outputs": []
    },
    {
      "cell_type": "code",
      "source": [
        "#@title Add openai api key\n",
        "import os\n",
        "os.environ['OPENAI_API_KEY'] = \"\""
      ],
      "metadata": {
        "id": "tzqsSLTnnBOr"
      },
      "execution_count": null,
      "outputs": []
    },
    {
      "cell_type": "markdown",
      "source": [
        "## 1. Create Embedding"
      ],
      "metadata": {
        "id": "SAip7Soo6m7W"
      }
    },
    {
      "cell_type": "code",
      "source": [
        "import tiktoken\n",
        "import pandas as pd\n",
        "import numpy as np\n",
        "import openai\n",
        "from dataclasses import dataclass\n",
        "\n",
        "@dataclass\n",
        "class EmbeddingParams:\n",
        "    \"\"\"\n",
        "    Desc: Parameters of embedding model(encoding -> embedding)\n",
        "\n",
        "    Parameters:\n",
        "        embedding_model: str, openai model to create embedding vectors (GPT model name)\n",
        "        embedding_encoding: str, the encoding schema used for the embedding (Tokenizer Name)\n",
        "        max_tokens: max allowed tokens, for text-embedding-ada-002, this should be\n",
        "            smaller than 8191 tokens\n",
        "\n",
        "    Note:\n",
        "        Please refer to https://platform.openai.com/docs/guides/embeddings/what-are-embeddings\n",
        "    \"\"\"\n",
        "    embedding_model:str = \"text-embedding-ada-002\"\n",
        "    embedding_encoding:str = \"cl100k_base\"\n",
        "    max_tokens:float = 8000\n",
        "\n",
        "class DocumentEmbedding:\n",
        "\n",
        "    def __init__(self, df, column = 'texts', embedding_params = None):\n",
        "        self.df = df\n",
        "        self.embedding_params = embedding_params if embedding_params else EmbeddingParams()\n",
        "        self.column = column\n",
        "        self.encoding = tiktoken.get_encoding(self.embedding_params.embedding_encoding)\n",
        "\n",
        "    def calculate_tokens(self):\n",
        "        self.df['n_tokens'] = self.df[self.column].apply(lambda x: len(self.encoding.encode(x)))\n",
        "\n",
        "    def embed_single(self, text):\n",
        "        text = text.replace(\"\\n\", \" \")\n",
        "        return openai.Embedding.create(input = [text], model=self.embedding_params.embedding_model)['data'][0]['embedding']\n",
        "\n",
        "    def create_embedding(self):\n",
        "        self.calculate_tokens()\n",
        "        self.df[\"embedding\"] = self.df[self.column].apply(\n",
        "            lambda x: self.embed_single(x)\n",
        "            )\n",
        "\n",
        "    def dump(self, fp = \"embedding.csv\"):\n",
        "        self.df.to_csv(fp, index = False)\n",
        "        print(\"Dumped embedding to {}\".format(fp))\n",
        "\n",
        "    @classmethod\n",
        "    def load(cls, fp = \"embedding.csv\"):\n",
        "        df = pd.read_csv(fp)\n",
        "        df['embedding'] = df['embedding'].apply(eval).apply(np.array)\n",
        "        return df"
      ],
      "metadata": {
        "id": "cTzPicsLr-Z9"
      },
      "execution_count": null,
      "outputs": []
    },
    {
      "cell_type": "code",
      "source": [
        "# for a given dataframe df\n",
        "df = pd.DataFrame(['Welcome to school',\n",
        "                   'Nice to see you in school',\n",
        "                   'It is very happy to see you here in school',\n",
        "                   'The weather is good today, its sunny all day',\n",
        "                   \"A shinny sun is in the sky\",\n",
        "                   'It is good weathcer with a sun in the sky'], columns = ['texts'])\n",
        "\n",
        "# create embedding and save embedding\n",
        "embed = DocumentEmbedding(df, \"texts\")\n",
        "embed.create_embedding()\n",
        "embed.dump()\n",
        "\n",
        "# load embedding\n",
        "embedding =DocumentEmbedding.load()"
      ],
      "metadata": {
        "colab": {
          "base_uri": "https://localhost:8080/"
        },
        "id": "xU2oUTWure_x",
        "outputId": "ea3f70ff-e1b9-4fef-db70-343fbf62bce0"
      },
      "execution_count": null,
      "outputs": [
        {
          "output_type": "stream",
          "name": "stdout",
          "text": [
            "Dumped embedding to embedding.csv\n"
          ]
        }
      ]
    },
    {
      "cell_type": "code",
      "source": [
        "embedding"
      ],
      "metadata": {
        "colab": {
          "base_uri": "https://localhost:8080/",
          "height": 235
        },
        "id": "IPy3acbPuDLc",
        "outputId": "d70f7050-fd9e-40f1-b5cf-b82ed40d9729"
      },
      "execution_count": null,
      "outputs": [
        {
          "output_type": "execute_result",
          "data": {
            "text/plain": [
              "                                          texts  n_tokens  \\\n",
              "0                             Welcome to school         3   \n",
              "1                     Nice to see you in school         6   \n",
              "2    It is very happy to see you here in school        10   \n",
              "3  The weather is good today, its sunny all day        10   \n",
              "4                    A shinny sun is in the sky         8   \n",
              "5     It is good weathcer with a sun in the sky        12   \n",
              "\n",
              "                                           embedding  \n",
              "0  [0.006322845350950956, 0.014436447992920876, -...  \n",
              "1  [0.006240431219339371, -0.003838322823867202, ...  \n",
              "2  [0.0042152199894189835, -0.0031464393250644207...  \n",
              "3  [0.001616460969671607, 0.01902160979807377, 0....  \n",
              "4  [0.02212405949831009, 0.001005280064418912, -0...  \n",
              "5  [0.007704227697104216, 0.00914715975522995, 0....  "
            ],
            "text/html": [
              "\n",
              "  <div id=\"df-4cc7f978-8ad6-4592-b9b9-7c34438caffd\">\n",
              "    <div class=\"colab-df-container\">\n",
              "      <div>\n",
              "<style scoped>\n",
              "    .dataframe tbody tr th:only-of-type {\n",
              "        vertical-align: middle;\n",
              "    }\n",
              "\n",
              "    .dataframe tbody tr th {\n",
              "        vertical-align: top;\n",
              "    }\n",
              "\n",
              "    .dataframe thead th {\n",
              "        text-align: right;\n",
              "    }\n",
              "</style>\n",
              "<table border=\"1\" class=\"dataframe\">\n",
              "  <thead>\n",
              "    <tr style=\"text-align: right;\">\n",
              "      <th></th>\n",
              "      <th>texts</th>\n",
              "      <th>n_tokens</th>\n",
              "      <th>embedding</th>\n",
              "    </tr>\n",
              "  </thead>\n",
              "  <tbody>\n",
              "    <tr>\n",
              "      <th>0</th>\n",
              "      <td>Welcome to school</td>\n",
              "      <td>3</td>\n",
              "      <td>[0.006322845350950956, 0.014436447992920876, -...</td>\n",
              "    </tr>\n",
              "    <tr>\n",
              "      <th>1</th>\n",
              "      <td>Nice to see you in school</td>\n",
              "      <td>6</td>\n",
              "      <td>[0.006240431219339371, -0.003838322823867202, ...</td>\n",
              "    </tr>\n",
              "    <tr>\n",
              "      <th>2</th>\n",
              "      <td>It is very happy to see you here in school</td>\n",
              "      <td>10</td>\n",
              "      <td>[0.0042152199894189835, -0.0031464393250644207...</td>\n",
              "    </tr>\n",
              "    <tr>\n",
              "      <th>3</th>\n",
              "      <td>The weather is good today, its sunny all day</td>\n",
              "      <td>10</td>\n",
              "      <td>[0.001616460969671607, 0.01902160979807377, 0....</td>\n",
              "    </tr>\n",
              "    <tr>\n",
              "      <th>4</th>\n",
              "      <td>A shinny sun is in the sky</td>\n",
              "      <td>8</td>\n",
              "      <td>[0.02212405949831009, 0.001005280064418912, -0...</td>\n",
              "    </tr>\n",
              "    <tr>\n",
              "      <th>5</th>\n",
              "      <td>It is good weathcer with a sun in the sky</td>\n",
              "      <td>12</td>\n",
              "      <td>[0.007704227697104216, 0.00914715975522995, 0....</td>\n",
              "    </tr>\n",
              "  </tbody>\n",
              "</table>\n",
              "</div>\n",
              "      <button class=\"colab-df-convert\" onclick=\"convertToInteractive('df-4cc7f978-8ad6-4592-b9b9-7c34438caffd')\"\n",
              "              title=\"Convert this dataframe to an interactive table.\"\n",
              "              style=\"display:none;\">\n",
              "        \n",
              "  <svg xmlns=\"http://www.w3.org/2000/svg\" height=\"24px\"viewBox=\"0 0 24 24\"\n",
              "       width=\"24px\">\n",
              "    <path d=\"M0 0h24v24H0V0z\" fill=\"none\"/>\n",
              "    <path d=\"M18.56 5.44l.94 2.06.94-2.06 2.06-.94-2.06-.94-.94-2.06-.94 2.06-2.06.94zm-11 1L8.5 8.5l.94-2.06 2.06-.94-2.06-.94L8.5 2.5l-.94 2.06-2.06.94zm10 10l.94 2.06.94-2.06 2.06-.94-2.06-.94-.94-2.06-.94 2.06-2.06.94z\"/><path d=\"M17.41 7.96l-1.37-1.37c-.4-.4-.92-.59-1.43-.59-.52 0-1.04.2-1.43.59L10.3 9.45l-7.72 7.72c-.78.78-.78 2.05 0 2.83L4 21.41c.39.39.9.59 1.41.59.51 0 1.02-.2 1.41-.59l7.78-7.78 2.81-2.81c.8-.78.8-2.07 0-2.86zM5.41 20L4 18.59l7.72-7.72 1.47 1.35L5.41 20z\"/>\n",
              "  </svg>\n",
              "      </button>\n",
              "      \n",
              "  <style>\n",
              "    .colab-df-container {\n",
              "      display:flex;\n",
              "      flex-wrap:wrap;\n",
              "      gap: 12px;\n",
              "    }\n",
              "\n",
              "    .colab-df-convert {\n",
              "      background-color: #E8F0FE;\n",
              "      border: none;\n",
              "      border-radius: 50%;\n",
              "      cursor: pointer;\n",
              "      display: none;\n",
              "      fill: #1967D2;\n",
              "      height: 32px;\n",
              "      padding: 0 0 0 0;\n",
              "      width: 32px;\n",
              "    }\n",
              "\n",
              "    .colab-df-convert:hover {\n",
              "      background-color: #E2EBFA;\n",
              "      box-shadow: 0px 1px 2px rgba(60, 64, 67, 0.3), 0px 1px 3px 1px rgba(60, 64, 67, 0.15);\n",
              "      fill: #174EA6;\n",
              "    }\n",
              "\n",
              "    [theme=dark] .colab-df-convert {\n",
              "      background-color: #3B4455;\n",
              "      fill: #D2E3FC;\n",
              "    }\n",
              "\n",
              "    [theme=dark] .colab-df-convert:hover {\n",
              "      background-color: #434B5C;\n",
              "      box-shadow: 0px 1px 3px 1px rgba(0, 0, 0, 0.15);\n",
              "      filter: drop-shadow(0px 1px 2px rgba(0, 0, 0, 0.3));\n",
              "      fill: #FFFFFF;\n",
              "    }\n",
              "  </style>\n",
              "\n",
              "      <script>\n",
              "        const buttonEl =\n",
              "          document.querySelector('#df-4cc7f978-8ad6-4592-b9b9-7c34438caffd button.colab-df-convert');\n",
              "        buttonEl.style.display =\n",
              "          google.colab.kernel.accessAllowed ? 'block' : 'none';\n",
              "\n",
              "        async function convertToInteractive(key) {\n",
              "          const element = document.querySelector('#df-4cc7f978-8ad6-4592-b9b9-7c34438caffd');\n",
              "          const dataTable =\n",
              "            await google.colab.kernel.invokeFunction('convertToInteractive',\n",
              "                                                     [key], {});\n",
              "          if (!dataTable) return;\n",
              "\n",
              "          const docLinkHtml = 'Like what you see? Visit the ' +\n",
              "            '<a target=\"_blank\" href=https://colab.research.google.com/notebooks/data_table.ipynb>data table notebook</a>'\n",
              "            + ' to learn more about interactive tables.';\n",
              "          element.innerHTML = '';\n",
              "          dataTable['output_type'] = 'display_data';\n",
              "          await google.colab.output.renderOutput(dataTable, element);\n",
              "          const docLink = document.createElement('div');\n",
              "          docLink.innerHTML = docLinkHtml;\n",
              "          element.appendChild(docLink);\n",
              "        }\n",
              "      </script>\n",
              "    </div>\n",
              "  </div>\n",
              "  "
            ]
          },
          "metadata": {},
          "execution_count": 44
        }
      ]
    },
    {
      "cell_type": "markdown",
      "source": [
        "## 2. Visualize Embedding\n",
        "\n",
        "\n",
        "More Embedding = More money"
      ],
      "metadata": {
        "id": "7iMsP5th6szc"
      }
    },
    {
      "cell_type": "code",
      "source": [
        "import pandas as pd\n",
        "from sklearn.manifold import TSNE\n",
        "import matplotlib.pyplot as plt\n",
        "import matplotlib\n",
        " \n",
        "embeddings = np.array(embedding.embedding.tolist())\n",
        " \n",
        "# Create a t-SNE model and transform the data\n",
        "tsne = TSNE(n_components=2, perplexity = 5, random_state=42)\n",
        "vis_dims = tsne.fit_transform(embeddings)\n",
        " \n",
        "colors = [\"red\", \"black\"]\n",
        "x = [x for x,y in vis_dims]\n",
        "y = [y for x,y in vis_dims]\n",
        "color_indices = [0,0,0,1,1,1]\n",
        " \n",
        "colormap = matplotlib.colors.ListedColormap(colors)\n",
        "plt.scatter(x, y, c=color_indices, cmap=colormap, alpha=0.3)\n",
        "plt.title(\"Amazon ratings visualized in language using t-SNE\")"
      ],
      "metadata": {
        "id": "-5aT6PB353dW",
        "colab": {
          "base_uri": "https://localhost:8080/",
          "height": 299
        },
        "outputId": "6bb311a5-e93e-4b26-d886-a23e0c98c31b"
      },
      "execution_count": null,
      "outputs": [
        {
          "output_type": "execute_result",
          "data": {
            "text/plain": [
              "Text(0.5, 1.0, 'Amazon ratings visualized in language using t-SNE')"
            ]
          },
          "metadata": {},
          "execution_count": 49
        },
        {
          "output_type": "display_data",
          "data": {
            "text/plain": [
              "<Figure size 432x288 with 1 Axes>"
            ],
            "image/png": "[encoded data removed]"
          },
          "metadata": {
            "needs_background": "light"
          }
        }
      ]
    },
    {
      "cell_type": "markdown",
      "source": [
        "## 3. Clustering"
      ],
      "metadata": {
        "id": "bJCvoLYgREJB"
      }
    },
    {
      "cell_type": "code",
      "source": [
        "import numpy as np\n",
        "from sklearn.cluster import KMeans\n",
        " \n",
        "matrix = np.vstack(embeddings)\n",
        "n_clusters = 2\n",
        " \n",
        "kmeans = KMeans(n_clusters = n_clusters, init='k-means++', random_state=42, n_init = 'auto')\n",
        "kmeans.fit(matrix)\n",
        "prediction_df = pd.DataFrame(df.texts)\n",
        "prediction_df['prediction'] = kmeans.labels_\n",
        "prediction_df"
      ],
      "metadata": {
        "colab": {
          "base_uri": "https://localhost:8080/",
          "height": 235
        },
        "id": "2XvroAFGNH_C",
        "outputId": "514fe730-0e80-4ee4-a2c2-b7f7fd1570c0"
      },
      "execution_count": null,
      "outputs": [
        {
          "output_type": "execute_result",
          "data": {
            "text/plain": [
              "                                          texts  prediction\n",
              "0                             Welcome to school           1\n",
              "1                     Nice to see you in school           1\n",
              "2    It is very happy to see you here in school           1\n",
              "3  The weather is good today, its sunny all day           0\n",
              "4                    A shinny sun is in the sky           0\n",
              "5     It is good weathcer with a sun in the sky           0"
            ],
            "text/html": [
              "\n",
              "  <div id=\"df-f1061b2b-8aa3-409c-ba94-b9fd2723923d\">\n",
              "    <div class=\"colab-df-container\">\n",
              "      <div>\n",
              "<style scoped>\n",
              "    .dataframe tbody tr th:only-of-type {\n",
              "        vertical-align: middle;\n",
              "    }\n",
              "\n",
              "    .dataframe tbody tr th {\n",
              "        vertical-align: top;\n",
              "    }\n",
              "\n",
              "    .dataframe thead th {\n",
              "        text-align: right;\n",
              "    }\n",
              "</style>\n",
              "<table border=\"1\" class=\"dataframe\">\n",
              "  <thead>\n",
              "    <tr style=\"text-align: right;\">\n",
              "      <th></th>\n",
              "      <th>texts</th>\n",
              "      <th>prediction</th>\n",
              "    </tr>\n",
              "  </thead>\n",
              "  <tbody>\n",
              "    <tr>\n",
              "      <th>0</th>\n",
              "      <td>Welcome to school</td>\n",
              "      <td>1</td>\n",
              "    </tr>\n",
              "    <tr>\n",
              "      <th>1</th>\n",
              "      <td>Nice to see you in school</td>\n",
              "      <td>1</td>\n",
              "    </tr>\n",
              "    <tr>\n",
              "      <th>2</th>\n",
              "      <td>It is very happy to see you here in school</td>\n",
              "      <td>1</td>\n",
              "    </tr>\n",
              "    <tr>\n",
              "      <th>3</th>\n",
              "      <td>The weather is good today, its sunny all day</td>\n",
              "      <td>0</td>\n",
              "    </tr>\n",
              "    <tr>\n",
              "      <th>4</th>\n",
              "      <td>A shinny sun is in the sky</td>\n",
              "      <td>0</td>\n",
              "    </tr>\n",
              "    <tr>\n",
              "      <th>5</th>\n",
              "      <td>It is good weathcer with a sun in the sky</td>\n",
              "      <td>0</td>\n",
              "    </tr>\n",
              "  </tbody>\n",
              "</table>\n",
              "</div>\n",
              "      <button class=\"colab-df-convert\" onclick=\"convertToInteractive('df-f1061b2b-8aa3-409c-ba94-b9fd2723923d')\"\n",
              "              title=\"Convert this dataframe to an interactive table.\"\n",
              "              style=\"display:none;\">\n",
              "        \n",
              "  <svg xmlns=\"http://www.w3.org/2000/svg\" height=\"24px\"viewBox=\"0 0 24 24\"\n",
              "       width=\"24px\">\n",
              "    <path d=\"M0 0h24v24H0V0z\" fill=\"none\"/>\n",
              "    <path d=\"M18.56 5.44l.94 2.06.94-2.06 2.06-.94-2.06-.94-.94-2.06-.94 2.06-2.06.94zm-11 1L8.5 8.5l.94-2.06 2.06-.94-2.06-.94L8.5 2.5l-.94 2.06-2.06.94zm10 10l.94 2.06.94-2.06 2.06-.94-2.06-.94-.94-2.06-.94 2.06-2.06.94z\"/><path d=\"M17.41 7.96l-1.37-1.37c-.4-.4-.92-.59-1.43-.59-.52 0-1.04.2-1.43.59L10.3 9.45l-7.72 7.72c-.78.78-.78 2.05 0 2.83L4 21.41c.39.39.9.59 1.41.59.51 0 1.02-.2 1.41-.59l7.78-7.78 2.81-2.81c.8-.78.8-2.07 0-2.86zM5.41 20L4 18.59l7.72-7.72 1.47 1.35L5.41 20z\"/>\n",
              "  </svg>\n",
              "      </button>\n",
              "      \n",
              "  <style>\n",
              "    .colab-df-container {\n",
              "      display:flex;\n",
              "      flex-wrap:wrap;\n",
              "      gap: 12px;\n",
              "    }\n",
              "\n",
              "    .colab-df-convert {\n",
              "      background-color: #E8F0FE;\n",
              "      border: none;\n",
              "      border-radius: 50%;\n",
              "      cursor: pointer;\n",
              "      display: none;\n",
              "      fill: #1967D2;\n",
              "      height: 32px;\n",
              "      padding: 0 0 0 0;\n",
              "      width: 32px;\n",
              "    }\n",
              "\n",
              "    .colab-df-convert:hover {\n",
              "      background-color: #E2EBFA;\n",
              "      box-shadow: 0px 1px 2px rgba(60, 64, 67, 0.3), 0px 1px 3px 1px rgba(60, 64, 67, 0.15);\n",
              "      fill: #174EA6;\n",
              "    }\n",
              "\n",
              "    [theme=dark] .colab-df-convert {\n",
              "      background-color: #3B4455;\n",
              "      fill: #D2E3FC;\n",
              "    }\n",
              "\n",
              "    [theme=dark] .colab-df-convert:hover {\n",
              "      background-color: #434B5C;\n",
              "      box-shadow: 0px 1px 3px 1px rgba(0, 0, 0, 0.15);\n",
              "      filter: drop-shadow(0px 1px 2px rgba(0, 0, 0, 0.3));\n",
              "      fill: #FFFFFF;\n",
              "    }\n",
              "  </style>\n",
              "\n",
              "      <script>\n",
              "        const buttonEl =\n",
              "          document.querySelector('#df-f1061b2b-8aa3-409c-ba94-b9fd2723923d button.colab-df-convert');\n",
              "        buttonEl.style.display =\n",
              "          google.colab.kernel.accessAllowed ? 'block' : 'none';\n",
              "\n",
              "        async function convertToInteractive(key) {\n",
              "          const element = document.querySelector('#df-f1061b2b-8aa3-409c-ba94-b9fd2723923d');\n",
              "          const dataTable =\n",
              "            await google.colab.kernel.invokeFunction('convertToInteractive',\n",
              "                                                     [key], {});\n",
              "          if (!dataTable) return;\n",
              "\n",
              "          const docLinkHtml = 'Like what you see? Visit the ' +\n",
              "            '<a target=\"_blank\" href=https://colab.research.google.com/notebooks/data_table.ipynb>data table notebook</a>'\n",
              "            + ' to learn more about interactive tables.';\n",
              "          element.innerHTML = '';\n",
              "          dataTable['output_type'] = 'display_data';\n",
              "          await google.colab.output.renderOutput(dataTable, element);\n",
              "          const docLink = document.createElement('div');\n",
              "          docLink.innerHTML = docLinkHtml;\n",
              "          element.appendChild(docLink);\n",
              "        }\n",
              "      </script>\n",
              "    </div>\n",
              "  </div>\n",
              "  "
            ]
          },
          "metadata": {},
          "execution_count": 57
        }
      ]
    },
    {
      "cell_type": "markdown",
      "source": [
        "## 4. Zero shot classification"
      ],
      "metadata": {
        "id": "PTQdeuMMUtiZ"
      }
    },
    {
      "cell_type": "code",
      "source": [
        "from openai.embeddings_utils import cosine_similarity, get_embedding\n",
        " \n",
        "labels = ['school', 'sunny']\n",
        "label_embeddings = np.array([get_embedding(label, engine='text-embedding-ada-002') for label in labels], dtype = np.float16)\n",
        " \n",
        "def label_score(review_embedding, label_embeddings):\n",
        "   return cosine_similarity(review_embedding, label_embeddings[1]) - cosine_similarity(review_embedding, label_embeddings[0])\n",
        "\n",
        "for i in range(6):\n",
        "    prediction = 'sunny' if label_score(embeddings[i], label_embeddings) > 0 else 'school'\n",
        "    print(df.iloc[i].texts, \": ----\",prediction)"
      ],
      "metadata": {
        "colab": {
          "base_uri": "https://localhost:8080/"
        },
        "id": "k1BaTl3bRU9o",
        "outputId": "54a89f29-b979-4eca-ea00-3783d241b978"
      },
      "execution_count": null,
      "outputs": [
        {
          "output_type": "stream",
          "name": "stdout",
          "text": [
            "Welcome to school : ---- school\n",
            "Nice to see you in school : ---- school\n",
            "It is very happy to see you here in school : ---- school\n",
            "The weather is good today, its sunny all day : ---- sunny\n",
            "A shinny sun is in the sky : ---- sunny\n",
            "It is good weathcer with a sun in the sky : ---- sunny\n"
          ]
        }
      ]
    },
    {
      "cell_type": "markdown",
      "source": [
        "## 4. User and Product Embeddings"
      ],
      "metadata": {
        "id": "SIUml5pFXoe4"
      }
    },
    {
      "cell_type": "code",
      "source": [
        "!curl -o fine_food_reviews_1k.csv https://raw.githubusercontent.com/openai/openai-cookbook/86105298b0fb6369b69ef995bf242a42277c890d/examples/data/fine_food_reviews_1k.csv"
      ],
      "metadata": {
        "colab": {
          "base_uri": "https://localhost:8080/"
        },
        "id": "xeXcTKGbUeiU",
        "outputId": "36cdae75-40b7-4570-cb65-193f45449913"
      },
      "execution_count": null,
      "outputs": [
        {
          "output_type": "stream",
          "name": "stdout",
          "text": [
            "  % Total    % Received % Xferd  Average Speed   Time    Time     Time  Current\n",
            "                                 Dload  Upload   Total   Spent    Left  Speed\n",
            "\r  0     0    0     0    0     0      0      0 --:--:-- --:--:-- --:--:--     0\r100  425k  100  425k    0     0  4785k      0 --:--:-- --:--:-- --:--:-- 4785k\n"
          ]
        }
      ]
    },
    {
      "cell_type": "code",
      "source": [
        "fo = pd.read_csv(\"fine_food_reviews_1k.csv\")"
      ],
      "metadata": {
        "id": "79y8W69rXX9C"
      },
      "execution_count": null,
      "outputs": []
    },
    {
      "cell_type": "code",
      "source": [
        "fo"
      ],
      "metadata": {
        "colab": {
          "base_uri": "https://localhost:8080/",
          "height": 419
        },
        "id": "NsO-EUaQX3mX",
        "outputId": "7fe8aa63-462f-42ca-82c5-e99ba9f55ffa"
      },
      "execution_count": null,
      "outputs": [
        {
          "output_type": "execute_result",
          "data": {
            "text/plain": [
              "     Unnamed: 0        Time   ProductId          UserId  Score  \\\n",
              "0             0  1351123200  B003XPF9BO  A3R7JR3FMEBXQB      5   \n",
              "1             1  1351123200  B003JK537S  A3JBPC3WFUT5ZP      1   \n",
              "2             2  1351123200  B000JMBE7M   AQX1N6A51QOKG      4   \n",
              "3             3  1351123200  B004AHGBX4  A2UY46X0OSNVUQ      3   \n",
              "4             4  1351123200  B001BORBHO  A1AFOYZ9HSM2CZ      5   \n",
              "..          ...         ...         ...             ...    ...   \n",
              "995         995  1351209600  B004OQLIHK   AKHQMSUORSA91      5   \n",
              "996         996  1351209600  B0006349W6  A21BT40VZCCYT4      5   \n",
              "997         997  1351209600  B00611F084   A6D4ND3C3BCYV      5   \n",
              "998         998  1351209600  B005QKH5HA  A3LR9HCV3D96I3      5   \n",
              "999         999  1351209600  B001EQ5GEO  A3VYU0VO6DYV6I      5   \n",
              "\n",
              "                                               Summary  \\\n",
              "0    where does one  start...and stop... with a tre...   \n",
              "1                                    Arrived in pieces   \n",
              "2            It isn't blanc mange, but isn't bad . . .   \n",
              "3          These also have SALT and it's not sea salt.   \n",
              "4                               Happy with the product   \n",
              "..                                                 ...   \n",
              "995                                         Delicious!   \n",
              "996                                Good Training Treat   \n",
              "997                             Jamica Me Crazy Coffee   \n",
              "998                                      Party Peanuts   \n",
              "999                                I love Maui Coffee!   \n",
              "\n",
              "                                                  Text  \n",
              "0    Wanted to save some to bring to my Chicago fam...  \n",
              "1    Not pleased at all. When I opened the box, mos...  \n",
              "2    I'm not sure that custard is really custard wi...  \n",
              "3    I like the fact that you can see what you're g...  \n",
              "4    My dog was suffering with itchy skin.  He had ...  \n",
              "..                                                 ...  \n",
              "995  I have ordered these raisins multiple times.  ...  \n",
              "996  My dog will come in from outside when I am tra...  \n",
              "997  Wolfgang Puck's Jamaica Me Crazy is that wonde...  \n",
              "998  Great product for the price. Mix with the Asia...  \n",
              "999  My first experience with Maui Coffee was bring...  \n",
              "\n",
              "[1000 rows x 7 columns]"
            ],
            "text/html": [
              "\n",
              "  <div id=\"df-12af2023-7062-4793-94d5-bf5d3060f122\">\n",
              "    <div class=\"colab-df-container\">\n",
              "      <div>\n",
              "<style scoped>\n",
              "    .dataframe tbody tr th:only-of-type {\n",
              "        vertical-align: middle;\n",
              "    }\n",
              "\n",
              "    .dataframe tbody tr th {\n",
              "        vertical-align: top;\n",
              "    }\n",
              "\n",
              "    .dataframe thead th {\n",
              "        text-align: right;\n",
              "    }\n",
              "</style>\n",
              "<table border=\"1\" class=\"dataframe\">\n",
              "  <thead>\n",
              "    <tr style=\"text-align: right;\">\n",
              "      <th></th>\n",
              "      <th>Unnamed: 0</th>\n",
              "      <th>Time</th>\n",
              "      <th>ProductId</th>\n",
              "      <th>UserId</th>\n",
              "      <th>Score</th>\n",
              "      <th>Summary</th>\n",
              "      <th>Text</th>\n",
              "    </tr>\n",
              "  </thead>\n",
              "  <tbody>\n",
              "    <tr>\n",
              "      <th>0</th>\n",
              "      <td>0</td>\n",
              "      <td>1351123200</td>\n",
              "      <td>B003XPF9BO</td>\n",
              "      <td>A3R7JR3FMEBXQB</td>\n",
              "      <td>5</td>\n",
              "      <td>where does one  start...and stop... with a tre...</td>\n",
              "      <td>Wanted to save some to bring to my Chicago fam...</td>\n",
              "    </tr>\n",
              "    <tr>\n",
              "      <th>1</th>\n",
              "      <td>1</td>\n",
              "      <td>1351123200</td>\n",
              "      <td>B003JK537S</td>\n",
              "      <td>A3JBPC3WFUT5ZP</td>\n",
              "      <td>1</td>\n",
              "      <td>Arrived in pieces</td>\n",
              "      <td>Not pleased at all. When I opened the box, mos...</td>\n",
              "    </tr>\n",
              "    <tr>\n",
              "      <th>2</th>\n",
              "      <td>2</td>\n",
              "      <td>1351123200</td>\n",
              "      <td>B000JMBE7M</td>\n",
              "      <td>AQX1N6A51QOKG</td>\n",
              "      <td>4</td>\n",
              "      <td>It isn't blanc mange, but isn't bad . . .</td>\n",
              "      <td>I'm not sure that custard is really custard wi...</td>\n",
              "    </tr>\n",
              "    <tr>\n",
              "      <th>3</th>\n",
              "      <td>3</td>\n",
              "      <td>1351123200</td>\n",
              "      <td>B004AHGBX4</td>\n",
              "      <td>A2UY46X0OSNVUQ</td>\n",
              "      <td>3</td>\n",
              "      <td>These also have SALT and it's not sea salt.</td>\n",
              "      <td>I like the fact that you can see what you're g...</td>\n",
              "    </tr>\n",
              "    <tr>\n",
              "      <th>4</th>\n",
              "      <td>4</td>\n",
              "      <td>1351123200</td>\n",
              "      <td>B001BORBHO</td>\n",
              "      <td>A1AFOYZ9HSM2CZ</td>\n",
              "      <td>5</td>\n",
              "      <td>Happy with the product</td>\n",
              "      <td>My dog was suffering with itchy skin.  He had ...</td>\n",
              "    </tr>\n",
              "    <tr>\n",
              "      <th>...</th>\n",
              "      <td>...</td>\n",
              "      <td>...</td>\n",
              "      <td>...</td>\n",
              "      <td>...</td>\n",
              "      <td>...</td>\n",
              "      <td>...</td>\n",
              "      <td>...</td>\n",
              "    </tr>\n",
              "    <tr>\n",
              "      <th>995</th>\n",
              "      <td>995</td>\n",
              "      <td>1351209600</td>\n",
              "      <td>B004OQLIHK</td>\n",
              "      <td>AKHQMSUORSA91</td>\n",
              "      <td>5</td>\n",
              "      <td>Delicious!</td>\n",
              "      <td>I have ordered these raisins multiple times.  ...</td>\n",
              "    </tr>\n",
              "    <tr>\n",
              "      <th>996</th>\n",
              "      <td>996</td>\n",
              "      <td>1351209600</td>\n",
              "      <td>B0006349W6</td>\n",
              "      <td>A21BT40VZCCYT4</td>\n",
              "      <td>5</td>\n",
              "      <td>Good Training Treat</td>\n",
              "      <td>My dog will come in from outside when I am tra...</td>\n",
              "    </tr>\n",
              "    <tr>\n",
              "      <th>997</th>\n",
              "      <td>997</td>\n",
              "      <td>1351209600</td>\n",
              "      <td>B00611F084</td>\n",
              "      <td>A6D4ND3C3BCYV</td>\n",
              "      <td>5</td>\n",
              "      <td>Jamica Me Crazy Coffee</td>\n",
              "      <td>Wolfgang Puck's Jamaica Me Crazy is that wonde...</td>\n",
              "    </tr>\n",
              "    <tr>\n",
              "      <th>998</th>\n",
              "      <td>998</td>\n",
              "      <td>1351209600</td>\n",
              "      <td>B005QKH5HA</td>\n",
              "      <td>A3LR9HCV3D96I3</td>\n",
              "      <td>5</td>\n",
              "      <td>Party Peanuts</td>\n",
              "      <td>Great product for the price. Mix with the Asia...</td>\n",
              "    </tr>\n",
              "    <tr>\n",
              "      <th>999</th>\n",
              "      <td>999</td>\n",
              "      <td>1351209600</td>\n",
              "      <td>B001EQ5GEO</td>\n",
              "      <td>A3VYU0VO6DYV6I</td>\n",
              "      <td>5</td>\n",
              "      <td>I love Maui Coffee!</td>\n",
              "      <td>My first experience with Maui Coffee was bring...</td>\n",
              "    </tr>\n",
              "  </tbody>\n",
              "</table>\n",
              "<p>1000 rows × 7 columns</p>\n",
              "</div>\n",
              "      <button class=\"colab-df-convert\" onclick=\"convertToInteractive('df-12af2023-7062-4793-94d5-bf5d3060f122')\"\n",
              "              title=\"Convert this dataframe to an interactive table.\"\n",
              "              style=\"display:none;\">\n",
              "        \n",
              "  <svg xmlns=\"http://www.w3.org/2000/svg\" height=\"24px\"viewBox=\"0 0 24 24\"\n",
              "       width=\"24px\">\n",
              "    <path d=\"M0 0h24v24H0V0z\" fill=\"none\"/>\n",
              "    <path d=\"M18.56 5.44l.94 2.06.94-2.06 2.06-.94-2.06-.94-.94-2.06-.94 2.06-2.06.94zm-11 1L8.5 8.5l.94-2.06 2.06-.94-2.06-.94L8.5 2.5l-.94 2.06-2.06.94zm10 10l.94 2.06.94-2.06 2.06-.94-2.06-.94-.94-2.06-.94 2.06-2.06.94z\"/><path d=\"M17.41 7.96l-1.37-1.37c-.4-.4-.92-.59-1.43-.59-.52 0-1.04.2-1.43.59L10.3 9.45l-7.72 7.72c-.78.78-.78 2.05 0 2.83L4 21.41c.39.39.9.59 1.41.59.51 0 1.02-.2 1.41-.59l7.78-7.78 2.81-2.81c.8-.78.8-2.07 0-2.86zM5.41 20L4 18.59l7.72-7.72 1.47 1.35L5.41 20z\"/>\n",
              "  </svg>\n",
              "      </button>\n",
              "      \n",
              "  <style>\n",
              "    .colab-df-container {\n",
              "      display:flex;\n",
              "      flex-wrap:wrap;\n",
              "      gap: 12px;\n",
              "    }\n",
              "\n",
              "    .colab-df-convert {\n",
              "      background-color: #E8F0FE;\n",
              "      border: none;\n",
              "      border-radius: 50%;\n",
              "      cursor: pointer;\n",
              "      display: none;\n",
              "      fill: #1967D2;\n",
              "      height: 32px;\n",
              "      padding: 0 0 0 0;\n",
              "      width: 32px;\n",
              "    }\n",
              "\n",
              "    .colab-df-convert:hover {\n",
              "      background-color: #E2EBFA;\n",
              "      box-shadow: 0px 1px 2px rgba(60, 64, 67, 0.3), 0px 1px 3px 1px rgba(60, 64, 67, 0.15);\n",
              "      fill: #174EA6;\n",
              "    }\n",
              "\n",
              "    [theme=dark] .colab-df-convert {\n",
              "      background-color: #3B4455;\n",
              "      fill: #D2E3FC;\n",
              "    }\n",
              "\n",
              "    [theme=dark] .colab-df-convert:hover {\n",
              "      background-color: #434B5C;\n",
              "      box-shadow: 0px 1px 3px 1px rgba(0, 0, 0, 0.15);\n",
              "      filter: drop-shadow(0px 1px 2px rgba(0, 0, 0, 0.3));\n",
              "      fill: #FFFFFF;\n",
              "    }\n",
              "  </style>\n",
              "\n",
              "      <script>\n",
              "        const buttonEl =\n",
              "          document.querySelector('#df-12af2023-7062-4793-94d5-bf5d3060f122 button.colab-df-convert');\n",
              "        buttonEl.style.display =\n",
              "          google.colab.kernel.accessAllowed ? 'block' : 'none';\n",
              "\n",
              "        async function convertToInteractive(key) {\n",
              "          const element = document.querySelector('#df-12af2023-7062-4793-94d5-bf5d3060f122');\n",
              "          const dataTable =\n",
              "            await google.colab.kernel.invokeFunction('convertToInteractive',\n",
              "                                                     [key], {});\n",
              "          if (!dataTable) return;\n",
              "\n",
              "          const docLinkHtml = 'Like what you see? Visit the ' +\n",
              "            '<a target=\"_blank\" href=https://colab.research.google.com/notebooks/data_table.ipynb>data table notebook</a>'\n",
              "            + ' to learn more about interactive tables.';\n",
              "          element.innerHTML = '';\n",
              "          dataTable['output_type'] = 'display_data';\n",
              "          await google.colab.output.renderOutput(dataTable, element);\n",
              "          const docLink = document.createElement('div');\n",
              "          docLink.innerHTML = docLinkHtml;\n",
              "          element.appendChild(docLink);\n",
              "        }\n",
              "      </script>\n",
              "    </div>\n",
              "  </div>\n",
              "  "
            ]
          },
          "metadata": {},
          "execution_count": 80
        }
      ]
    },
    {
      "cell_type": "markdown",
      "source": [
        "- 太费钱了，对每一行，获取embeddin, Summary是摘要， Text是正文， concat到一起，获取每一行的embedding。  \n",
        "- Group by user_id, np.mean(embedding) 获得user embedding\n",
        "- Group by productId, np.mean(embedding) 获得product embedding\n",
        "- 用户和产品就都有向量表示了"
      ],
      "metadata": {
        "id": "DhOAfgLqY39X"
      }
    },
    {
      "cell_type": "markdown",
      "source": [
        "## 5. 基于Embedding的文本搜索 - Sql表搜索"
      ],
      "metadata": {
        "id": "QnGZVBZK0Grr"
      }
    },
    {
      "cell_type": "code",
      "source": [
        "texts = [\n",
        "    \"Shady make love with Ludy last night\",\n",
        "    \"Shady is a software engineer\",\n",
        "    \"Ludy is a musician\",\n",
        "    \"Shady is Ludy's girl friend\"\n",
        "]\n",
        "\n",
        "df = pd.DataFrame(texts, columns = ['texts'])\n",
        "\n",
        "embed = DocumentEmbedding(df, \"texts\")\n",
        "embed.create_embedding()\n",
        "embed.dump()\n",
        "\n",
        "# load embedding\n",
        "embedding =DocumentEmbedding.load()"
      ],
      "metadata": {
        "colab": {
          "base_uri": "https://localhost:8080/"
        },
        "id": "HUnqMszgYByZ",
        "outputId": "9eacdc65-eaa5-4e88-88b0-8589d6253806"
      },
      "execution_count": null,
      "outputs": [
        {
          "output_type": "stream",
          "name": "stdout",
          "text": [
            "Dumped embedding to embedding.csv\n"
          ]
        }
      ]
    },
    {
      "cell_type": "code",
      "source": [
        "from openai.embeddings_utils import get_embedding, cosine_similarity\n",
        " \n",
        "def search_answers(df, query, n=1, pprint=True):\n",
        "    embedding = get_embedding(query, engine='text-embedding-ada-002')\n",
        "    df['similarities'] = df.embedding.apply(lambda x: cosine_similarity(x, embedding))\n",
        "    res = df.sort_values('similarities', ascending=False).head(n)\n",
        "    return res\n",
        " \n",
        "def qa(q):\n",
        "    res = search_answers(embedding, q, n=1)\n",
        "    answer = res.texts.iloc[0]\n",
        "    print(answer)"
      ],
      "metadata": {
        "id": "ZwmW6CePx0Sv"
      },
      "execution_count": null,
      "outputs": []
    },
    {
      "cell_type": "code",
      "source": [
        "qa(\"What is Shady's job?\")"
      ],
      "metadata": {
        "colab": {
          "base_uri": "https://localhost:8080/"
        },
        "id": "wsglWi1FyGFb",
        "outputId": "3b142a26-dfc6-467f-d69e-109ca59dbee5"
      },
      "execution_count": null,
      "outputs": [
        {
          "output_type": "stream",
          "name": "stdout",
          "text": [
            "Shady is a software engineer\n"
          ]
        }
      ]
    },
    {
      "cell_type": "code",
      "source": [
        "qa(\"what is Ludy's job\")"
      ],
      "metadata": {
        "colab": {
          "base_uri": "https://localhost:8080/"
        },
        "id": "3WRfmc32zQ_M",
        "outputId": "2e43de49-83a7-43d7-bd94-102ca3389779"
      },
      "execution_count": null,
      "outputs": [
        {
          "output_type": "stream",
          "name": "stdout",
          "text": [
            "Ludy is a musician\n"
          ]
        }
      ]
    },
    {
      "cell_type": "code",
      "source": [
        "qa(\"What is the relationship between Shady and Ludy\")"
      ],
      "metadata": {
        "colab": {
          "base_uri": "https://localhost:8080/"
        },
        "id": "8JkEwUHazzTh",
        "outputId": "d8d6b534-46eb-4689-822d-397170ac1368"
      },
      "execution_count": null,
      "outputs": [
        {
          "output_type": "stream",
          "name": "stdout",
          "text": [
            "Shady is Ludy's girl friend\n"
          ]
        }
      ]
    },
    {
      "cell_type": "code",
      "source": [
        "qa(\"What does Ludy to last night?\")"
      ],
      "metadata": {
        "colab": {
          "base_uri": "https://localhost:8080/"
        },
        "id": "2Ayui_-Mz2q2",
        "outputId": "a5ccee01-4ce4-49bc-e8ce-35119c240c1e"
      },
      "execution_count": 102,
      "outputs": [
        {
          "output_type": "stream",
          "name": "stdout",
          "text": [
            "Shady make love with Ludy last night\n"
          ]
        }
      ]
    },
    {
      "cell_type": "markdown",
      "source": [
        "## 6. 更廉价的搜索 - HuggingFace"
      ],
      "metadata": {
        "id": "uitL-hcf2gtS"
      }
    },
    {
      "cell_type": "code",
      "source": [
        "!pip install transformers\n",
        "!pip install datasets"
      ],
      "metadata": {
        "id": "UQ_CmAxR2eJw"
      },
      "execution_count": null,
      "outputs": []
    },
    {
      "cell_type": "code",
      "source": [
        "import torch\n",
        "from transformers import AutoTokenizer, AutoModel\n",
        "import torch.nn.functional as F\n",
        "\n",
        "sentences = [\n",
        "    'Artificial intelligence is cool',\n",
        "    'Transformer is an advanced deeplearning model',\n",
        "    'The weather is good today',\n",
        "    'Word to Vector increase the ability of NLP',\n",
        "    'It is going to rain tomorrow',\n",
        "    'NLP embedding are very important'\n",
        "]\n",
        "\n",
        "\n",
        "model_ckpt = \"sentence-transformers/all-MiniLM-L6-v2\"\n",
        "tokenizer = AutoTokenizer.from_pretrained(model_ckpt)\n",
        "encode_input = tokenizer(sentences, padding = True, truncation = True, return_tensors = 'pt')\n",
        "model = AutoModel.from_pretrained(model_ckpt)\n",
        "\n",
        "with torch.no_grad():\n",
        "    model_output = model(**encode_input)\n",
        "\n",
        "token_embeddings = model_output.last_hidden_state\n",
        "print(f\"Token embeddings shape {token_embeddings.size()}\")\n",
        "\n",
        "np_embedding = token_embeddings.numpy()"
      ],
      "metadata": {
        "id": "HqTDF1E8z7nT",
        "colab": {
          "base_uri": "https://localhost:8080/"
        },
        "outputId": "903ea8d4-f998-43c2-e24e-3b79091f8044"
      },
      "execution_count": 159,
      "outputs": [
        {
          "output_type": "stream",
          "name": "stdout",
          "text": [
            "Token embeddings shape torch.Size([6, 12, 384])\n"
          ]
        }
      ]
    },
    {
      "cell_type": "code",
      "source": [
        "def mean_pooling(model_output, attention_mask):\n",
        "    token_embeddings = model_output.last_hidden_state\n",
        "    input_mask_expanded = (\n",
        "        attention_mask.unsqueeze(-1).expand(token_embeddings.size()).float()\n",
        "    )\n",
        "    return torch.sum(token_embeddings * input_mask_expanded, 1) / torch.clamp(input_mask_expanded.sum(1), min = 1e-9)\n",
        "\n",
        "sentence_embeddings = mean_pooling(model_output, encode_input['attention_mask'])\n",
        "sentence_embeddings = F.normalize(sentence_embeddings, p = 2, dim = 1)\n",
        "print(f\"Sentence embeddings shape: {sentence_embeddings.size()}\")"
      ],
      "metadata": {
        "colab": {
          "base_uri": "https://localhost:8080/"
        },
        "id": "yvMoSonUGXHx",
        "outputId": "89fe9cf0-7631-4ace-ace5-847beaa72eac"
      },
      "execution_count": 160,
      "outputs": [
        {
          "output_type": "stream",
          "name": "stdout",
          "text": [
            "Sentence embeddings shape: torch.Size([6, 384])\n"
          ]
        }
      ]
    },
    {
      "cell_type": "code",
      "source": [
        "import numpy as np\n",
        "import seaborn as sns\n",
        "from sklearn.metrics.pairwise import cosine_similarity\n",
        "scores = np.zeros((sentence_embeddings.shape[0], sentence_embeddings.shape[0]))\n",
        "sentence_embeddings = sentence_embeddings.detach().numpy()\n",
        "\n",
        "for idx in range(sentence_embeddings.shape[0]):\n",
        "    scores[idx,:] = cosine_similarity([sentence_embeddings[idx]], sentence_embeddings)[0]\n",
        "\n",
        "sns.heatmap(scores, annot = True)\n",
        "plt.show()"
      ],
      "metadata": {
        "colab": {
          "base_uri": "https://localhost:8080/",
          "height": 269
        },
        "id": "LXni3VzGHLbv",
        "outputId": "e5d97658-5c57-4caa-dd3f-849b22d030fa"
      },
      "execution_count": 161,
      "outputs": [
        {
          "output_type": "display_data",
          "data": {
            "text/plain": [
              "<Figure size 432x288 with 2 Axes>"
            ],
            "image/png": "[encoded data removed]"
          },
          "metadata": {
            "needs_background": "light"
          }
        }
      ]
    },
    {
      "cell_type": "code",
      "source": [
        "from dataclasses import dataclass\n",
        "import torch\n",
        "from transformers import AutoTokenizer, AutoModel\n",
        "import torch.nn.functional as F\n",
        "from sklearn.metrics.pairwise import cosine_similarity\n",
        "\n",
        "@dataclass\n",
        "class SentenceEmbedder:\n",
        "\n",
        "    model_ckpt:str = \"sentence-transformers/all-MiniLM-L6-v2\"\n",
        "    normalize:bool = False\n",
        "\n",
        "    def __post_init__(self):\n",
        "        tokenizer = AutoTokenizer.from_pretrained(model_ckpt)\n",
        "        model = AutoModel.from_pretrained(model_ckpt)\n",
        "\n",
        "    def tokenize(self, sentences):\n",
        "        return tokenizer(sentences, padding = True, truncation = True, return_tensors = 'pt')\n",
        "\n",
        "    def mean_pooling(self, model_output, attention_mask):\n",
        "\n",
        "        token_embeddings = model_output.last_hidden_state\n",
        "        input_mask_expanded = (\n",
        "            attention_mask.unsqueeze(-1).expand(token_embeddings.size()).float()\n",
        "        )\n",
        "        return torch.sum(token_embeddings * input_mask_expanded, 1) / torch.clamp(input_mask_expanded.sum(1), min = 1e-9)\n",
        "\n",
        "\n",
        "    def __call__(self, sentences):\n",
        "        encoder_input = self.tokenize(sentences)\n",
        "\n",
        "        with torch.no_grad():\n",
        "            model_output = model(**encoder_input)\n",
        "\n",
        "        sentence_embeddings = self.mean_pooling(model_output,encoder_input['attention_mask'] )\n",
        "        if self.normalize:\n",
        "            sentence_embeddings = F.normalize(sentence_embeddings, p = 2, dim = 1)\n",
        "        return sentence_embeddings.numpy()"
      ],
      "metadata": {
        "id": "MpzJF046PbdP"
      },
      "execution_count": 209,
      "outputs": []
    },
    {
      "cell_type": "code",
      "source": [
        "ddls = [\n",
        "    \"create table user_info(user_id int primary)\",\n",
        "    \"create table user_pay(create_time datetime, order_id string, amout float, user_id int)\",\n",
        "    \"create table user_address(user_id int primary key, address text, user_country string)\",\n",
        "    \"create table product(product_id primary key, product_name string, product_price float)\"\n",
        "]\n",
        "\n",
        "embedder = SentenceEmbedder()\n",
        "ddl_embeddings = embedder(ddls)\n",
        "\n",
        "def find_table(query_string:str):\n",
        "    query_embedding = embedder([query_string])\n",
        "    idx =np.argmax(cosine_similarity(query_embedding, ddl_embeddings))\n",
        "    return ddls[idx]"
      ],
      "metadata": {
        "id": "d2IgnIjIXCuO"
      },
      "execution_count": 212,
      "outputs": []
    },
    {
      "cell_type": "markdown",
      "source": [
        "String Query由chatGPT生成"
      ],
      "metadata": {
        "id": "Y3a4H5ZqdepH"
      }
    },
    {
      "cell_type": "code",
      "source": [
        "find_table(\"A table contains financial information\")"
      ],
      "metadata": {
        "colab": {
          "base_uri": "https://localhost:8080/",
          "height": 36
        },
        "id": "xhVHA55Ib4Yp",
        "outputId": "2c38a108-6df7-4204-c416-0f3eee3cccf6"
      },
      "execution_count": 213,
      "outputs": [
        {
          "output_type": "execute_result",
          "data": {
            "text/plain": [
              "'create table user_pay(create_time datetime, order_id string, amout float, user_id int)'"
            ],
            "application/vnd.google.colaboratory.intrinsic+json": {
              "type": "string"
            }
          },
          "metadata": {},
          "execution_count": 213
        }
      ]
    },
    {
      "cell_type": "code",
      "source": [
        "find_table(\"A table contains location information\")"
      ],
      "metadata": {
        "colab": {
          "base_uri": "https://localhost:8080/",
          "height": 36
        },
        "id": "eZHOgeYhcjSR",
        "outputId": "0972288f-d2de-4226-9111-8ada350c70d8"
      },
      "execution_count": 217,
      "outputs": [
        {
          "output_type": "execute_result",
          "data": {
            "text/plain": [
              "'create table user_address(user_id int primary key, address text, user_country string)'"
            ],
            "application/vnd.google.colaboratory.intrinsic+json": {
              "type": "string"
            }
          },
          "metadata": {},
          "execution_count": 217
        }
      ]
    },
    {
      "cell_type": "code",
      "source": [
        "find_table(\"A table contains basic information\")"
      ],
      "metadata": {
        "colab": {
          "base_uri": "https://localhost:8080/",
          "height": 36
        },
        "id": "DeNn5d05cr6N",
        "outputId": "37c643eb-7ff2-41c6-e422-4649d9a04d62"
      },
      "execution_count": 215,
      "outputs": [
        {
          "output_type": "execute_result",
          "data": {
            "text/plain": [
              "'create table user_info(user_id int primary)'"
            ],
            "application/vnd.google.colaboratory.intrinsic+json": {
              "type": "string"
            }
          },
          "metadata": {},
          "execution_count": 215
        }
      ]
    },
    {
      "cell_type": "code",
      "source": [
        "find_table(\"A table contains goods information\")"
      ],
      "metadata": {
        "colab": {
          "base_uri": "https://localhost:8080/",
          "height": 36
        },
        "id": "wVW-WvBzdNzp",
        "outputId": "618995ca-b8ed-4cb5-8828-ad5d296d8174"
      },
      "execution_count": 216,
      "outputs": [
        {
          "output_type": "execute_result",
          "data": {
            "text/plain": [
              "'create table product(product_id primary key, product_name string, product_price float)'"
            ],
            "application/vnd.google.colaboratory.intrinsic+json": {
              "type": "string"
            }
          },
          "metadata": {},
          "execution_count": 216
        }
      ]
    }
  ]
}